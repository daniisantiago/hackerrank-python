{
 "cells": [
  {
   "cell_type": "code",
   "execution_count": 18,
   "metadata": {},
   "outputs": [
    {
     "name": "stdout",
     "output_type": "stream",
     "text": [
      "5\n",
      "2 3 6 6 5\n",
      "5\n"
     ]
    }
   ],
   "source": [
    "if __name__ == '__main__':\n",
    "    n = int(input())\n",
    "    arr = map(int, input().split())\n",
    "\n",
    "'''\n",
    "Given the participants' score sheet for your University Sports Day, you are required to find the runner-up score.\n",
    "You are given n scores. Store them in a list and find the score of the runner-up.\n",
    "'''\n",
    "#my code\n",
    "#transformando o objeto map em lista para ter acesso as funções da lista\n",
    "lista = list(arr)\n",
    "valueMax = max(lista)\n",
    "while(valueMax == max(lista)):\n",
    "    lista.remove(valueMax)\n",
    "\n",
    "print(max(lista))\n"
   ]
  }
 ],
 "metadata": {
  "kernelspec": {
   "display_name": "Python 3",
   "language": "python",
   "name": "python3"
  },
  "language_info": {
   "codemirror_mode": {
    "name": "ipython",
    "version": 3
   },
   "file_extension": ".py",
   "mimetype": "text/x-python",
   "name": "python",
   "nbconvert_exporter": "python",
   "pygments_lexer": "ipython3",
   "version": "3.6.2"
  }
 },
 "nbformat": 4,
 "nbformat_minor": 2
}
