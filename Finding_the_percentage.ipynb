{
 "cells": [
  {
   "cell_type": "code",
   "execution_count": 10,
   "metadata": {},
   "outputs": [
    {
     "name": "stdout",
     "output_type": "stream",
     "text": [
      "2\n",
      "Harsh 25 26.5 28\n",
      "Anurag 26 28 30\n",
      "Harsh\n",
      "26.50\n"
     ]
    }
   ],
   "source": [
    "'''\n",
    "You have a record of N students. Each record contains the student's name, and their percent marks in Maths,\n",
    "Physics and Chemistry. The marks can be floating values. The user enters some integer N followed by the names and marks\n",
    "for N students. You are required to save the record in a dictionary data type. The user then enters a student's name.\n",
    "Output the average percentage marks obtained by that student, correct to two decimal places.\n",
    "'''\n",
    "if __name__ == '__main__':\n",
    "    n = int(input())\n",
    "    student_marks = {}\n",
    "    for _ in range(n):\n",
    "        name, *line = input().split()\n",
    "        scores = list(map(float, line))\n",
    "        student_marks[name] = scores\n",
    "    query_name = input()\n",
    "\n",
    "#my code\n",
    "mean = sum(student_marks[query_name])/len(student_marks[query_name])\n",
    "#formatando a media para duas casas decimais\n",
    "print('{:.2f}'.format(mean))"
   ]
  }
 ],
 "metadata": {
  "kernelspec": {
   "display_name": "Python 3",
   "language": "python",
   "name": "python3"
  },
  "language_info": {
   "codemirror_mode": {
    "name": "ipython",
    "version": 3
   },
   "file_extension": ".py",
   "mimetype": "text/x-python",
   "name": "python",
   "nbconvert_exporter": "python",
   "pygments_lexer": "ipython3",
   "version": "3.6.2"
  }
 },
 "nbformat": 4,
 "nbformat_minor": 2
}
