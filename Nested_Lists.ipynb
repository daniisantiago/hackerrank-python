{
 "cells": [
  {
   "cell_type": "code",
   "execution_count": 64,
   "metadata": {},
   "outputs": [
    {
     "name": "stdout",
     "output_type": "stream",
     "text": [
      "5\n",
      "Harry\n",
      "37.21\n",
      "Berry\n",
      "37.21\n",
      "Tina\n",
      "37.2\n",
      "Akriti\n",
      "41\n",
      "Harsh\n",
      "39\n",
      "Berry\n",
      "Harry\n"
     ]
    }
   ],
   "source": [
    "'''\n",
    "Given the names and grades for each student in a Physics class of N students,\n",
    "store them in a nested list and print the name(s) of any student(s) having the second lowest grade.\n",
    "Note: If there are multiple students with the same grade, order their names alphabetically and print each name on a new line.\n",
    "'''\n",
    "students = {};\n",
    "if __name__ == '__main__':\n",
    "    for _ in range(int(input())):\n",
    "        name = input()\n",
    "        score = float(input())\n",
    "        students[name] = score\n",
    "\n",
    "\n",
    "#definindo o menor valor da lista atual\n",
    "lowest = min(students.values())\n",
    "auxList = {}\n",
    "for i in students:\n",
    "    if students[i] != lowest :\n",
    "        auxList[i] = students[i]\n",
    "\n",
    "#definindo o menor valor da segunda lista\n",
    "second_lowest = min(auxList.values())\n",
    "second_list = []\n",
    "for i in students:\n",
    "    if students[i] == second_lowest :\n",
    "        second_list.append(i)\n",
    "\n",
    "#printando os nomes de forma ordenada\n",
    "for y in sorted(second_list):\n",
    "    print(y)"
   ]
  }
 ],
 "metadata": {
  "kernelspec": {
   "display_name": "Python 3",
   "language": "python",
   "name": "python3"
  },
  "language_info": {
   "codemirror_mode": {
    "name": "ipython",
    "version": 3
   },
   "file_extension": ".py",
   "mimetype": "text/x-python",
   "name": "python",
   "nbconvert_exporter": "python",
   "pygments_lexer": "ipython3",
   "version": "3.6.2"
  }
 },
 "nbformat": 4,
 "nbformat_minor": 2
}
