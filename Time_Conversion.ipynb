{
 "cells": [
  {
   "cell_type": "code",
   "execution_count": 58,
   "metadata": {},
   "outputs": [
    {
     "name": "stdout",
     "output_type": "stream",
     "text": [
      "07:05:45PM\n",
      "19:05:45\n"
     ]
    }
   ],
   "source": [
    "'''\n",
    "Dado uma string informando a hora no formato americano,\n",
    "criar uma função para converter essa hora para o formato brasileiro.\n",
    "**A função deve retornar uma string.\n",
    "'''\n",
    "#!/bin/python3\n",
    "from datetime import datetime, time\n",
    "import os\n",
    "import sys\n",
    "\n",
    "#\n",
    "# Complete the timeConversion function below.\n",
    "#\n",
    "def timeConversion(s):\n",
    "    # Write your code here.\n",
    "    new_format = '%I:%M:%S%p'\n",
    "\n",
    "    #transformando a string para datetime\n",
    "    dt = datetime.strptime(s, new_format)\n",
    "\n",
    "    #convertendo o datetime para time\n",
    "    t = time(dt.hour, dt.minute, dt.second)\n",
    "\n",
    "    #retornando em forma de string\n",
    "    return str(t)\n",
    "\n",
    "\n",
    "\n",
    "if __name__ == '__main__':\n",
    "    s = input()\n",
    "    result = timeConversion(s)\n",
    "\n",
    "    print(result)\n"
   ]
  }
 ],
 "metadata": {
  "kernelspec": {
   "display_name": "Python 3",
   "language": "python",
   "name": "python3"
  },
  "language_info": {
   "codemirror_mode": {
    "name": "ipython",
    "version": 3
   },
   "file_extension": ".py",
   "mimetype": "text/x-python",
   "name": "python",
   "nbconvert_exporter": "python",
   "pygments_lexer": "ipython3",
   "version": "3.6.2"
  }
 },
 "nbformat": 4,
 "nbformat_minor": 2
}
